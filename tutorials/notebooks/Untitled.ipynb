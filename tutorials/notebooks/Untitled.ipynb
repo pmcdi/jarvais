{
 "cells": [
  {
   "cell_type": "code",
   "execution_count": 3,
   "id": "e3300d26-a2e1-4175-a6f7-b367fe3116e6",
   "metadata": {},
   "outputs": [
    {
     "name": "stdout",
     "output_type": "stream",
     "text": [
      "C-index (CoxPH): 0.9348\n",
      "C-index (GradientBoosting): 0.7510\n",
      "C-index (RandomForest): 0.7272\n"
     ]
    }
   ],
   "source": [
    "import pandas as pd\n",
    "import numpy as np\n",
    "from lifelines import CoxPHFitter\n",
    "from sklearn.ensemble import GradientBoostingRegressor\n",
    "from sksurv.metrics import concordance_index_censored\n",
    "from sksurv.ensemble import GradientBoostingSurvivalAnalysis, RandomSurvivalForest\n",
    "from sksurv.util import Surv\n",
    "\n",
    "# Example dataset\n",
    "data = pd.read_csv('/home/joshua-siraj/Documents/CDI/AutoML/data/RADCURE_challenge_clinical.csv')\n",
    "data.dropna(inplace=True)\n",
    "data.drop(columns=[\"Study ID\", \"split\"], inplace=True)\n",
    "data = pd.get_dummies(data, columns=[\"Sex\", \"T Stage\", \"N Stage\", \"Stage\", \"Disease Site\"], drop_first=True)\n",
    "\n",
    "# Prepare data\n",
    "data[\"event\"] = data[\"death\"] == 1\n",
    "data = data.apply(pd.to_numeric, errors='coerce')\n",
    "X = data.drop(columns=[\"survival_time\", \"death\", \"event\"])\n",
    "y = Surv.from_dataframe(\"event\", \"survival_time\", data)\n",
    "\n",
    "# Split data\n",
    "from sklearn.model_selection import train_test_split\n",
    "X_train, X_test, y_train, y_test = train_test_split(X, y, test_size=0.2, random_state=42)\n",
    "\n",
    "# Models\n",
    "models = {\n",
    "    \"CoxPH\": CoxPHFitter(),\n",
    "    \"GradientBoosting\": GradientBoostingSurvivalAnalysis(),\n",
    "    \"RandomForest\": RandomSurvivalForest(n_estimators=100, random_state=42),\n",
    "}\n",
    "\n",
    "# Fit CoxPH separately (it's incompatible with sksurv format directly)\n",
    "cox_data = data.copy()\n",
    "cox_data[\"survival_time\"] += 1e-6  # Avoid zero survival times for Cox\n",
    "coxph = CoxPHFitter(penalizer=0.0001)\n",
    "coxph.fit(cox_data, duration_col=\"survival_time\", event_col=\"death\")\n",
    "\n",
    "\n",
    "# Fit other models\n",
    "fitted_models = {}\n",
    "for name, model in models.items():\n",
    "    if name == \"CoxPH\":\n",
    "        fitted_models[name] = coxph\n",
    "    else:\n",
    "        model.fit(X_train, y_train)\n",
    "        fitted_models[name] = model\n",
    "\n",
    "# Evaluation\n",
    "def evaluate_model(model, X_test, y_test, model_name):\n",
    "    if model_name == \"CoxPH\":\n",
    "        return coxph.concordance_index_\n",
    "    else:\n",
    "        predictions = model.predict(X_test)\n",
    "        return concordance_index_censored(y_test[\"event\"], y_test[\"survival_time\"], predictions)[0]\n",
    "\n",
    "cindex_scores = {}\n",
    "for name, model in fitted_models.items():\n",
    "    cindex_scores[name] = evaluate_model(model, X_test, y_test, name)\n",
    "\n",
    "# Output C-index scores\n",
    "for model_name, cindex in cindex_scores.items():\n",
    "    print(f\"C-index ({model_name}): {cindex:.4f}\")\n"
   ]
  }
 ],
 "metadata": {
  "kernelspec": {
   "display_name": "Python 3 (ipykernel)",
   "language": "python",
   "name": "python3"
  },
  "language_info": {
   "codemirror_mode": {
    "name": "ipython",
    "version": 3
   },
   "file_extension": ".py",
   "mimetype": "text/x-python",
   "name": "python",
   "nbconvert_exporter": "python",
   "pygments_lexer": "ipython3",
   "version": "3.11.10"
  }
 },
 "nbformat": 4,
 "nbformat_minor": 5
}
